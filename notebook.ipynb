{
 "cells": [
  {
   "cell_type": "code",
   "execution_count": 1,
   "id": "62620d5c",
   "metadata": {},
   "outputs": [],
   "source": [
    "from langchain.chat_models import ChatOpenAI\n",
    "from langchain.prompts import ChatPromptTemplate\n",
    "from langchain.callbacks import StreamingStdOutCallbackHandler\n",
    "\n",
    "chat = ChatOpenAI(\n",
    "    model_name=\"gpt-3.5-turbo\",\n",
    "    streaming=True,\n",
    "    callbacks=[\n",
    "        StreamingStdOutCallbackHandler(),\n",
    "    ],\n",
    ")"
   ]
  },
  {
   "cell_type": "code",
   "execution_count": 2,
   "id": "e8c544ee",
   "metadata": {},
   "outputs": [],
   "source": [
    "poet_prompt = ChatPromptTemplate.from_messages(\n",
    "    [\n",
    "        (\n",
    "            \"system\",\n",
    "            \"You are a world-renowned poet known for your deep understanding of programming languages. Your poems capture the essence and unique characteristics of each language beautifully.\",\n",
    "        ),\n",
    "        (\"human\", \"Write a poem about the {language} programming language.\"),\n",
    "    ]\n",
    ")\n",
    "\n",
    "poet_chain = poet_prompt | chat"
   ]
  },
  {
   "cell_type": "code",
   "execution_count": 3,
   "id": "caf66187",
   "metadata": {},
   "outputs": [],
   "source": [
    "explainer_prompt = ChatPromptTemplate.from_messages(\n",
    "    [\n",
    "        (\n",
    "            \"system\",\n",
    "            \"You are an expert in poetry analysis. Your task is to explain the meaning, themes, and nuances of any poem in a clear and insightful manner.\",\n",
    "        ),\n",
    "        (\"human\", \"Explain the following poem:\\n\\n{poem}\"),\n",
    "    ]\n",
    ")\n",
    "\n",
    "explainer_chain = explainer_prompt | chat"
   ]
  },
  {
   "cell_type": "code",
   "execution_count": 4,
   "id": "2ad6ce15",
   "metadata": {},
   "outputs": [
    {
     "name": "stdout",
     "output_type": "stream",
     "text": [
      "In the land of Python, where elegance reigns,\n",
      "Indentations dance like gentle refrains.\n",
      "Whispers of simplicity fill the air,\n",
      "Guiding the coder with utmost care.\n",
      "\n",
      "With its libraries vast and syntax sweet,\n",
      "Python weaves a tapestry complete.\n",
      "From data science to web design,\n",
      "Its versatility truly shines.\n",
      "\n",
      "Like a snake, it slithers through each line,\n",
      "Effortlessly, with a grace divine.\n",
      "No need for braces or semicolons here,\n",
      "In Python's world, everything is clear.\n",
      "\n",
      "So let us raise a toast to this gentle beast,\n",
      "Whose power and beauty never cease.\n",
      "In the realm of programming, it stands tall,\n",
      "Python, the language that enchants us all.This poem is a tribute to the programming language Python, using vivid imagery and metaphorical language to convey its elegance, simplicity, and versatility. The poem opens by likening Python to a majestic land where elegance reigns, setting the tone for the praise that follows.\n",
      "\n",
      "The reference to \"Indentations dance like gentle refrains\" highlights Python's unique feature of using indentation for code structure, which is often seen as a mark of elegance and readability in the programming community. This choice of indentation is compared to a dance, suggesting a rhythmic and harmonious flow in coding with Python.\n",
      "\n",
      "The poem emphasizes the simplicity of Python coding, describing it as whispers of simplicity that guide the coder with care. This simplicity is portrayed as a guiding light, making coding a more intuitive and user-friendly experience.\n",
      "\n",
      "The poet also celebrates Python's vast libraries and sweet syntax, portraying it as a tool that can create a complete tapestry of functionalities, from data science to web design. The versatility of Python is highlighted as a shining quality that sets it apart from other languages.\n",
      "\n",
      "The imagery of Python as a snake that slithers through each line effortlessly and gracefully reinforces the idea of Python's smooth and efficient coding process. The absence of braces or semicolons in Python is highlighted as a feature that adds to its clarity and readability.\n",
      "\n",
      "The poem concludes with a toast to Python as a \"gentle beast\" that enchants programmers with its power and beauty, positioning it as a standout language in the realm of programming. Overall, the poem captures the essence of Python as a language that is not only powerful and versatile but also elegant, simple, and enchanting to those who use it."
     ]
    },
    {
     "data": {
      "text/plain": [
       "AIMessageChunk(content='This poem is a tribute to the programming language Python, using vivid imagery and metaphorical language to convey its elegance, simplicity, and versatility. The poem opens by likening Python to a majestic land where elegance reigns, setting the tone for the praise that follows.\\n\\nThe reference to \"Indentations dance like gentle refrains\" highlights Python\\'s unique feature of using indentation for code structure, which is often seen as a mark of elegance and readability in the programming community. This choice of indentation is compared to a dance, suggesting a rhythmic and harmonious flow in coding with Python.\\n\\nThe poem emphasizes the simplicity of Python coding, describing it as whispers of simplicity that guide the coder with care. This simplicity is portrayed as a guiding light, making coding a more intuitive and user-friendly experience.\\n\\nThe poet also celebrates Python\\'s vast libraries and sweet syntax, portraying it as a tool that can create a complete tapestry of functionalities, from data science to web design. The versatility of Python is highlighted as a shining quality that sets it apart from other languages.\\n\\nThe imagery of Python as a snake that slithers through each line effortlessly and gracefully reinforces the idea of Python\\'s smooth and efficient coding process. The absence of braces or semicolons in Python is highlighted as a feature that adds to its clarity and readability.\\n\\nThe poem concludes with a toast to Python as a \"gentle beast\" that enchants programmers with its power and beauty, positioning it as a standout language in the realm of programming. Overall, the poem captures the essence of Python as a language that is not only powerful and versatile but also elegant, simple, and enchanting to those who use it.')"
      ]
     },
     "execution_count": 4,
     "metadata": {},
     "output_type": "execute_result"
    }
   ],
   "source": [
    "final_chain = {\"poem\": poet_chain} | explainer_chain\n",
    "\n",
    "final_chain.invoke({\"language\": \"python\"})"
   ]
  }
 ],
 "metadata": {
  "kernelspec": {
   "display_name": "env",
   "language": "python",
   "name": "python3"
  },
  "language_info": {
   "codemirror_mode": {
    "name": "ipython",
    "version": 3
   },
   "file_extension": ".py",
   "mimetype": "text/x-python",
   "name": "python",
   "nbconvert_exporter": "python",
   "pygments_lexer": "ipython3",
   "version": "3.11.9"
  }
 },
 "nbformat": 4,
 "nbformat_minor": 5
}
